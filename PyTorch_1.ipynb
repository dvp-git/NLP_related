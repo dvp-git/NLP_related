{
 "cells": [
  {
   "cell_type": "markdown",
   "metadata": {},
   "source": [
    "# Learnings related to PyTorch"
   ]
  },
  {
   "cell_type": "code",
   "execution_count": 3,
   "metadata": {},
   "outputs": [],
   "source": [
    "import torch \n",
    "import torch.nn as nn\n",
    "import pandas as pd\n",
    "import numpy as np\n",
    "import torch.nn.functional as F"
   ]
  },
  {
   "cell_type": "markdown",
   "metadata": {},
   "source": [
    "### Coversion to one-Hot using \n",
    " - Torch: `nn.functional.one_hot`\n",
    " - Pandas: `.get_dummies()`"
   ]
  },
  {
   "cell_type": "code",
   "execution_count": 4,
   "metadata": {},
   "outputs": [
    {
     "name": "stdout",
     "output_type": "stream",
     "text": [
      "Torch OneHot tensor([[0, 1, 0, 0, 0],\n",
      "        [0, 0, 0, 1, 0],\n",
      "        [0, 0, 0, 0, 1],\n",
      "        [0, 0, 1, 0, 0],\n",
      "        [0, 0, 0, 1, 0],\n",
      "        [0, 1, 0, 0, 0],\n",
      "        [0, 0, 0, 0, 1],\n",
      "        [0, 0, 1, 0, 0],\n",
      "        [0, 0, 0, 1, 0],\n",
      "        [0, 0, 0, 0, 1],\n",
      "        [0, 1, 0, 0, 0]])\n",
      "Numpy One-Hot Cnverted  tensor([[1, 0, 0, 0],\n",
      "        [0, 0, 1, 0],\n",
      "        [0, 0, 0, 1],\n",
      "        [0, 1, 0, 0],\n",
      "        [0, 0, 1, 0],\n",
      "        [1, 0, 0, 0],\n",
      "        [0, 0, 0, 1],\n",
      "        [0, 1, 0, 0],\n",
      "        [0, 0, 1, 0],\n",
      "        [0, 0, 0, 1],\n",
      "        [1, 0, 0, 0]], dtype=torch.int32)\n"
     ]
    }
   ],
   "source": [
    "y = 1\n",
    "num_classes = 3\n",
    "data_ = pd.DataFrame({\n",
    "    'y':[1,3,4,2,3,1,4,2,3,4,1]\n",
    "})\n",
    "\n",
    "# Create the one-hot encoded vector using NumPy\n",
    "one_hot_numpy = np.array([0, 1, 0])\n",
    "\n",
    "# Create the one-hot encoded vector using PyTorch\n",
    "one_hot_pytorch = F.one_hot(torch.tensor(y),num_classes=3)\n",
    "#print(one_hot_numpy)\n",
    "#print(one_hot_pytorch)\n",
    "\n",
    "print(\"Torch OneHot\",F.one_hot(torch.tensor(data_['y'])))\n",
    "\n",
    "print(\"Numpy One-Hot Cnverted \",torch.tensor(pd.get_dummies(data_['y']).to_numpy().astype(int)))"
   ]
  },
  {
   "cell_type": "code",
   "execution_count": 5,
   "metadata": {},
   "outputs": [],
   "source": [
    "criterion = nn.CrossEntropyLoss()"
   ]
  },
  {
   "cell_type": "markdown",
   "metadata": {},
   "source": [
    "### Cross Entropy"
   ]
  },
  {
   "cell_type": "code",
   "execution_count": 6,
   "metadata": {},
   "outputs": [
    {
     "name": "stdout",
     "output_type": "stream",
     "text": [
      "CrossEntropyLoss()\n"
     ]
    }
   ],
   "source": [
    "print(criterion)"
   ]
  },
  {
   "cell_type": "code",
   "execution_count": 7,
   "metadata": {},
   "outputs": [
    {
     "name": "stdout",
     "output_type": "stream",
     "text": [
      "tensor(8.0619, dtype=torch.float64)\n"
     ]
    }
   ],
   "source": [
    "\n",
    "\n",
    "y = [2]\n",
    "scores = torch.tensor([[0.1, 6.0, -2.0, 3.2]])\n",
    "\n",
    "# Create a one-hot encoded vector of the label y\n",
    "one_hot_label = F.one_hot(torch.tensor(y), scores.shape[1])\n",
    "\n",
    "# Create the cross entropy loss function : As object of the CrossEntropyLoss class\n",
    "criterion = nn.CrossEntropyLoss()  \n",
    "\n",
    "# Calculate the cross entropy loss\n",
    "loss = criterion(scores.double(),one_hot_label.double())    \n",
    "print(loss)"
   ]
  },
  {
   "cell_type": "markdown",
   "metadata": {},
   "source": [
    "The method in the nn.CrossEntropyLoss class that is being called is forward(). When you call criterion(scores.double(), one_hot_label.double()), it is equivalent to calling criterion.forward(scores.double(), one_hot_label.double()). The forward() method performs the actual computation of the loss."
   ]
  },
  {
   "cell_type": "code",
   "execution_count": 8,
   "metadata": {},
   "outputs": [
    {
     "data": {
      "text/plain": [
       "tensor(8.0619, dtype=torch.float64)"
      ]
     },
     "execution_count": 8,
     "metadata": {},
     "output_type": "execute_result"
    }
   ],
   "source": [
    "# Using the functinal nn.functional.cross_entropy function\n",
    "F.cross_entropy(scores.double(),one_hot_label.double())"
   ]
  },
  {
   "cell_type": "markdown",
   "metadata": {},
   "source": [
    "### Sample MSE using pyTorch and Numpy"
   ]
  },
  {
   "cell_type": "code",
   "execution_count": 10,
   "metadata": {},
   "outputs": [
    {
     "name": "stdout",
     "output_type": "stream",
     "text": [
      "y_hat 10\n",
      "y 1\n",
      "mse_numpy 81.0\n",
      "mse_pytorch tensor(81.)\n"
     ]
    }
   ],
   "source": [
    "\n",
    "y_hat = np.array(10)  # 10 outputs\n",
    "y = np.array(1)       \n",
    "\n",
    "print(\"y_hat\",y_hat)\n",
    "print(\"y\",y)\n",
    "\n",
    "# Calculate the MSELoss using NumPy\n",
    "mse_numpy = np.mean((y.astype(float)-y_hat.astype(float))**2)\n",
    "\n",
    "\n",
    "\n",
    "# Create the MSELoss function\n",
    "criterion =  nn.MSELoss()\n",
    "\n",
    "# Calculate the MSELoss using the created loss function\n",
    "mse_pytorch = criterion(torch.tensor(y_hat).float(), torch.tensor(y).float())\n",
    "\n",
    "\n",
    "print(\"mse_numpy\",mse_numpy)\n",
    "print(\"mse_pytorch\",mse_pytorch)"
   ]
  },
  {
   "cell_type": "markdown",
   "metadata": {},
   "source": [
    "## Sample Neural Nework : Regression\n",
    "```python\n",
    "# Number of epochs to train\n",
    "for n in range(num_epochs):\n",
    "  for data in dataloader:\n",
    "    # Reset gradients to zero\n",
    "    optimizer.zero_grad()\n",
    "    feature, target = data\n",
    "    prediction = model(feature)    \n",
    "    loss = criterion(prediction, target)   # MSE for regression, CrossEntropy for classification etc   \n",
    "    #Compute the gradients of parameters (weights, bias)\n",
    "    loss.backward()         \n",
    "    # Update the weigths and bias -> W = W - dloss/dW , B = B - dloss/dB\n",
    "    optimizer.step()\n",
    "\n",
    "# Show the model weights and bias ( parameters)"
   ]
  },
  {
   "cell_type": "code",
   "execution_count": null,
   "metadata": {},
   "outputs": [],
   "source": []
  }
 ],
 "metadata": {
  "kernelspec": {
   "display_name": "base",
   "language": "python",
   "name": "python3"
  },
  "language_info": {
   "codemirror_mode": {
    "name": "ipython",
    "version": 3
   },
   "file_extension": ".py",
   "mimetype": "text/x-python",
   "name": "python",
   "nbconvert_exporter": "python",
   "pygments_lexer": "ipython3",
   "version": "3.10.6"
  }
 },
 "nbformat": 4,
 "nbformat_minor": 2
}
